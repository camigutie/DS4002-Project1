{
  "cells": [
    {
      "cell_type": "code",
      "execution_count": 2,
      "metadata": {
        "id": "rAqMYTKVyBWr"
      },
      "outputs": [],
      "source": [
        "import pandas as pd\n",
        "import numpy as np\n",
        "from sklearn.feature_extraction.text import TfidfVectorizer\n",
        "# import nltk\n",
        "# from nltk.sentiment import SentimentIntensityAnalyzer"
      ]
    },
    {
      "cell_type": "code",
      "execution_count": null,
      "metadata": {},
      "outputs": [],
      "source": [
        "nltk.download(\"vader_lexicon\")"
      ]
    },
    {
      "cell_type": "code",
      "execution_count": null,
      "metadata": {
        "id": "cdy7N5tzy-gh"
      },
      "outputs": [],
      "source": [
        "df = pd.read_csv('../DATA/raw.csv')"
      ]
    },
    {
      "cell_type": "code",
      "execution_count": null,
      "metadata": {},
      "outputs": [],
      "source": [
        "# Create binary dummy variable 'email_type'\n",
        "# email_type = 1 if Email Type == 'Phishing Email' ; email_type = 0 otherwise\n",
        "df['email_type'] = df['Email Type'].apply(lambda x: 1 if x == \"Phishing Email\" else 0)"
      ]
    },
    {
      "cell_type": "code",
      "execution_count": null,
      "metadata": {},
      "outputs": [],
      "source": [
        "df = df.drop(columns={'index', 'Unnamed: 0', 'Unnamed: 0.1', 'Email Type'})"
      ]
    },
    {
      "cell_type": "code",
      "execution_count": null,
      "metadata": {},
      "outputs": [],
      "source": [
        "df = df.rename(columns={\"Email Text\":\"email_text\"})"
      ]
    },
    {
      "cell_type": "code",
      "execution_count": null,
      "metadata": {
        "id": "v9qmILtDx222"
      },
      "outputs": [],
      "source": [
        "sia = SentimentIntensityAnalyzer()\n",
        "\n",
        "def extract_sentiment(text):\n",
        "  scores = sia.polarity_scores(text)\n",
        "  return [scores['neg'], scores['neu'], scores['pos'], scores['compound']]"
      ]
    },
    {
      "cell_type": "code",
      "execution_count": null,
      "metadata": {},
      "outputs": [],
      "source": [
        "# Calculate sentiment scores for each email text. Each observation now has features 'email_text', 'email_type', and\n",
        "# 'neg', 'neu', 'pos', and 'compound', representing email sentiment scores\n",
        "\n",
        "df['neg'], df['neu'], df['pos'], df['compound'] = zip(*df['email_text'].apply(extract_sentiment))"
      ]
    },
    {
      "cell_type": "code",
      "execution_count": null,
      "metadata": {},
      "outputs": [],
      "source": [
        "df.to_csv('../DATA/sentiment.csv')"
      ]
    },
    {
      "cell_type": "code",
      "execution_count": 10,
      "metadata": {},
      "outputs": [],
      "source": [
        "vectorizer = TfidfVectorizer(ngram_range=(1, 2), stop_words='english', max_features=5000)\n",
        "\n",
        "# Transform text data into a dataframe with TF-IDF values\n",
        "tf_idf_matrix = vectorizer.fit_transform(df['email_text']).toarray()\n",
        "tf_idf_df = pd.DataFrame(tf_idf_matrix, columns=vectorizer.get_feature_names_out(), index=df.index)\n",
        "\n",
        "# Drop 'email_text' since it's now encoded in TF-IDF features\n",
        "df = df.drop(columns=['email_text'])\n",
        "\n",
        "# Concatenate the TF-IDF features with the original dataframe to make established dataset\n",
        "df = pd.concat([df, tf_idf_df], axis=1)"
      ]
    },
    {
      "cell_type": "code",
      "execution_count": 11,
      "metadata": {},
      "outputs": [],
      "source": [
        "df.to_parquet('../DATA/email.parquet')"
      ]
    }
  ],
  "metadata": {
    "colab": {
      "provenance": []
    },
    "kernelspec": {
      "display_name": ".venv",
      "language": "python",
      "name": "python3"
    },
    "language_info": {
      "codemirror_mode": {
        "name": "ipython",
        "version": 3
      },
      "file_extension": ".py",
      "mimetype": "text/x-python",
      "name": "python",
      "nbconvert_exporter": "python",
      "pygments_lexer": "ipython3",
      "version": "3.12.3"
    }
  },
  "nbformat": 4,
  "nbformat_minor": 0
}
